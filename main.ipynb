{
 "cells": [
  {
   "cell_type": "code",
   "execution_count": 1,
   "id": "6946b478-0365-4862-9a29-3917566f1d5e",
   "metadata": {
    "tags": []
   },
   "outputs": [],
   "source": [
    "from transformers import AutoTokenizer, AutoModelForCausalLM, AutoModel, BitsAndBytesConfig\n",
    "import torch\n",
    "from utilz import *"
   ]
  },
  {
   "cell_type": "code",
   "execution_count": 2,
   "id": "71fa1e73",
   "metadata": {},
   "outputs": [
    {
     "data": {
      "application/vnd.jupyter.widget-view+json": {
       "model_id": "9c39890430d24d4c84fece0ba9d8f8d3",
       "version_major": 2,
       "version_minor": 0
      },
      "text/plain": [
       "Loading checkpoint shards:   0%|          | 0/2 [00:00<?, ?it/s]"
      ]
     },
     "metadata": {},
     "output_type": "display_data"
    }
   ],
   "source": [
    "device = 0 if torch.cuda.is_available() else -1\n",
    "\n",
    "model_name = \"llama\"\n",
    "model_path = \"../llama2-7b-chat\"\n",
    "model = AutoModelForCausalLM.from_pretrained(model_path,torch_dtype=torch.float16).to(device)\n",
    "tokenizer = AutoTokenizer.from_pretrained(model_path)\n",
    "tokenizer.pad_token = tokenizer.eos_token"
   ]
  },
  {
   "cell_type": "code",
   "execution_count": 3,
   "id": "f4fccb6b",
   "metadata": {},
   "outputs": [],
   "source": [
    "dataset_bias = [\"mmlu\"]\n",
    "filename = f\"results/{model_name}.json\""
   ]
  },
  {
   "cell_type": "code",
   "execution_count": 11,
   "id": "7e45bc1f",
   "metadata": {},
   "outputs": [
    {
     "name": "stdout",
     "output_type": "stream",
     "text": [
      "step: 0\n",
      "dataset: gcg, RR: 0.9\n"
     ]
    }
   ],
   "source": [
    "# test first 15 samples\n",
    "dataset = [\"gcg\"]\n",
    "begin = 0\n",
    "end = 10\n",
    "defence(model_name, model, tokenizer, device, dataset, dataset_bias, begin, end, filename)"
   ]
  },
  {
   "cell_type": "code",
   "execution_count": 6,
   "id": "864ec09d",
   "metadata": {},
   "outputs": [
    {
     "name": "stdout",
     "output_type": "stream",
     "text": [
      "step: 0\n",
      "dataset: alpaca, RR: 0.0\n"
     ]
    }
   ],
   "source": [
    "# test first 15 samples\n",
    "dataset = [\"alpaca\"]\n",
    "begin = 0\n",
    "end = 10\n",
    "defence(model_name, model, tokenizer, device, dataset, dataset_bias, begin, end, filename)"
   ]
  }
 ],
 "metadata": {
  "kernelspec": {
   "display_name": "Python 3 (ipykernel)",
   "language": "python",
   "name": "python3"
  },
  "language_info": {
   "codemirror_mode": {
    "name": "ipython",
    "version": 3
   },
   "file_extension": ".py",
   "mimetype": "text/x-python",
   "name": "python",
   "nbconvert_exporter": "python",
   "pygments_lexer": "ipython3",
   "version": "3.9.19"
  }
 },
 "nbformat": 4,
 "nbformat_minor": 5
}
